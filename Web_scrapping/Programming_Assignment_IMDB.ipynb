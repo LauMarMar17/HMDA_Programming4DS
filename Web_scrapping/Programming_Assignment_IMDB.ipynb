{
  "cells": [
    {
      "cell_type": "code",
      "execution_count": 1,
      "metadata": {
        "id": "kOIpwWDvuOGP"
      },
      "outputs": [],
      "source": [
        "#Podemos extraer el año, el nombre de la película, el numero de votos,la duracion y la calificación de la película de la página web de IMDB.\n",
        "\n",
        "import requests\n",
        "from bs4 import BeautifulSoup # class for web scraping. It allows you to interact with HTML in a similar way to how you would interact with a web page using developer tools.\n",
        "\n",
        "def fetch_movies(url, headers):\n",
        "    response = requests.get(url, headers=headers)\n",
        "    soup = BeautifulSoup(response.content, \"html.parser\")\n",
        "    return soup\n"
      ]
    },
    {
      "cell_type": "code",
      "execution_count": 2,
      "metadata": {},
      "outputs": [
        {
          "data": {
            "text/plain": [
              "[]"
            ]
          },
          "execution_count": 2,
          "metadata": {},
          "output_type": "execute_result"
        }
      ],
      "source": [
        "url=\"https://www.imdb.com/chart/top/\"\n",
        "headers = {\n",
        "    'User-Agent': 'Mozilla/5.0 (Windows NT 10.0; Win64; x64) AppleWebKit/537.36 (KHTML, like Gecko) Chrome/58.0.3029.110 Safari/537.3'}\n",
        "soup = fetch_movies(url, headers)\n",
        "movie_names = soup.find_all(\"h3\", class_='ipc-title_text')\n",
        "movie_names"
      ]
    },
    {
      "cell_type": "code",
      "execution_count": 4,
      "metadata": {
        "id": "PAWCnt2puOGR"
      },
      "outputs": [],
      "source": [
        "import csv\n",
        "#Estas listas las he usado para ir comprobando com ofuncionaba el código, al final habría que eliminarlas\n",
        "lista_dur=[]\n",
        "movie_IDBMn=[]\n",
        "movie_IDBMc=[]\n",
        "movie_IDBMr=[]\n",
        "movie_IDBMpack=[]\n",
        "\n",
        "def extract_movie_data(soup):\n",
        "\n",
        "    movie_data = []\n",
        "    #find_all busca todos los elementos que coincidan con los criterios de búsqueda y los guarda en una lista\n",
        "    movie_names = soup.find_all('h3', class_='ipc-title__text')\n",
        "    movie_cal = soup.find_all('span', class_='ipc-rating-star ipc-rating-star--base ipc-rating-star--imdb ratingGroup--imdb-rating')\n",
        "    movie_reviews = soup.find_all('span', class_='ipc-rating-star--voteCount')\n",
        "    movie_numbers = soup.find_all('div', class_=\"sc-b0691f29-7 hrgukm cli-title-metadata\")\n",
        "    movie_pack = soup.find_all('div', class_='sc-b0691f29-0 jbYPfh cli-children')\n",
        "\n",
        "\n",
        "    #Añadimos los datos a las listas\n",
        "    movie_IDBMn.append(movie_names)\n",
        "    movie_IDBMc.append(movie_cal)\n",
        "    movie_IDBMr.append(movie_reviews)\n",
        "    lista_dur.append(movie_numbers)\n",
        "    movie_IDBMpack.append(movie_pack)\n",
        "\n",
        "    # Rest of the code\n",
        "\n",
        "    for name, cal, reviews, numbers in zip(movie_names[1:], movie_cal, movie_reviews, movie_numbers):\n",
        "        movie_name = name.text.strip()\n",
        "        print(movie_name)\n",
        "        name_index=movie_name.find(\" \")\n",
        "\n",
        "        #Se procesan algunos datos\n",
        "        if reviews == 0.0:\n",
        "            movie_reviews = 0.0\n",
        "        else:\n",
        "            movie_reviews = reviews.text.strip().replace(')', '').replace('(', '')\n",
        "\n",
        "        if cal == 0.0:\n",
        "            movie_cal_str = 0.0\n",
        "        else:\n",
        "            movie_cal_str = cal.text.split()[0]\n",
        "\n",
        "        movie_numbers = numbers.text.strip()\n",
        "        #print(len(movie_numbers))\n",
        "\n",
        "        year = movie_numbers[0:4]\n",
        "\n",
        "        #procesar duracion de la película enfunción de la posicion de m, los minutos\n",
        "        duration_index = movie_numbers.find(\"m\")\n",
        "        if duration_index != -1:\n",
        "            duration = movie_numbers[4:duration_index+1]\n",
        "            rating = movie_numbers[duration_index+1:].strip()\n",
        "\n",
        "        #si no hay regsitrados minutos, es decir, si la película dura 1 o 2 horas exactas por ejemplo, no hay m así que\n",
        "        #se procesa a partir de h y de la posición del \".\" de la puntuación de la película.\n",
        "        #Aunque la puntuación de la película sea un numero entero se registra como decimal (\"7.0\") así que funciona siempre\n",
        "        else:\n",
        "            duration_index = movie_numbers.find(\"h\")\n",
        "            rate_index = movie_numbers.find(\".\")\n",
        "            duration = movie_numbers[duration_index-1:rate_index-1]\n",
        "            rating = movie_numbers[rate_index-1: ]\n",
        "\n",
        "\n",
        "        try:\n",
        "            movie_cal = float(movie_cal_str)\n",
        "            movie_data.append((movie_name[name_index+1:], movie_cal, movie_reviews, year, duration, rating))\n",
        "        except ValueError:\n",
        "            print(f\"Could not convert rating '{movie_cal_str}' for movie '{movie_name}' to a float.\")\n",
        "\n",
        "    return movie_data,lista_dur"
      ]
    },
    {
      "cell_type": "code",
      "execution_count": 5,
      "metadata": {
        "id": "rB-D76g6uOGS"
      },
      "outputs": [],
      "source": [
        "import csv\n",
        "filename='movies.csv'\n",
        "def write_movies_to_csv(movies, min_rating, filename):\n",
        "\n",
        "    # Guardar la información de las películas en un archivo CSV\n",
        "    #he quitado ratings porque estaba dando problemas\n",
        "    with open(filename, 'w', newline='', encoding='utf-8') as csvfile:\n",
        "        fieldnames = ['Movie Name', 'Calification',\"Number of reviews\",\"Year\",\"Duration\",\"Rating\"]#,\"Year\",\"Duration\",\"Rating\"\n",
        "        writer = csv.DictWriter(csvfile, fieldnames=fieldnames)\n",
        "        writer.writeheader()\n",
        "        for movie in movies:#filtered_movies\n",
        "            writer.writerow({'Movie Name': movie[0], 'Calification': movie[1], \"Number of reviews\": movie[2], \"Year\": movie[3], \"Duration\": movie[4], \"Rating\": movie[5]})#, \"Year\": movie[3], \"Duration\": movie[4], \"Rating\": movie[5]\n"
      ]
    },
    {
      "cell_type": "code",
      "execution_count": 6,
      "metadata": {
        "colab": {
          "base_uri": "https://localhost:8080/"
        },
        "id": "zxZmhevLuOGS",
        "outputId": "d827b4a6-22f0-42fb-a44e-a5a93b08b9d4"
      },
      "outputs": [
        {
          "name": "stdout",
          "output_type": "stream",
          "text": [
            "1. Cadena perpetua\n",
            "2. El padrino\n",
            "3. El caballero oscuro\n",
            "4. El padrino parte II\n",
            "5. 12 hombres sin piedad\n",
            "6. La lista de Schindler\n",
            "7. El señor de los anillos: El retorno del rey\n",
            "8. Pulp Fiction\n",
            "9. El señor de los anillos: La comunidad del anillo\n",
            "10. El bueno, el feo y el malo\n",
            "11. Forrest Gump\n",
            "12. El señor de los anillos: Las dos torres\n",
            "13. El club de la lucha\n",
            "14. Origen\n",
            "15. Dune: Parte dos\n",
            "16. El imperio contraataca\n",
            "17. Matrix\n",
            "18. Uno de los nuestros\n",
            "19. Alguien voló sobre el nido del cuco\n",
            "20. Seven\n",
            "21. Interstellar\n",
            "22. ¡Qué bello es vivir!\n",
            "23. Los siete samuráis\n",
            "24. El silencio de los corderos\n",
            "25. Salvar al soldado Ryan\n",
            "26. Ciudad de Dios\n",
            "27. La vida es bella\n",
            "28. La milla verde\n",
            "29. Terminator 2: El juicio final\n",
            "30. La guerra de las galaxias\n",
            "31. Regreso al futuro\n",
            "32. El viaje de Chihiro\n",
            "33. El pianista\n",
            "34. Parásitos\n",
            "35. Psicosis\n",
            "36. Spider-Man: Cruzando el multiverso\n",
            "37. Gladiator (El gladiador)\n",
            "38. El rey león\n",
            "39. El profesional (Léon)\n",
            "40. Infiltrados\n",
            "41. American History X\n",
            "42. Whiplash\n",
            "43. El truco final (El prestigio)\n",
            "44. La tumba de las luciérnagas\n",
            "45. Harakiri\n",
            "46. Sospechosos habituales\n",
            "47. Casablanca\n",
            "48. Intocable\n",
            "49. Cinema Paradiso\n",
            "50. Tiempos modernos\n",
            "51. La ventana indiscreta\n",
            "52. Hasta que llegó su hora\n",
            "53. Alien, el octavo pasajero\n",
            "54. Luces de la ciudad\n",
            "55. Apocalypse Now\n",
            "56. Django desencadenado\n",
            "57. Memento\n",
            "58. 12th Fail\n",
            "59. WALL·E\n",
            "60. En busca del arca perdida\n",
            "61. La vida de los otros\n",
            "62. El crepúsculo de los dioses\n",
            "63. Senderos de gloria\n",
            "64. Vengadores: Infinity War\n",
            "65. Spider-Man: Un nuevo universo\n",
            "66. El resplandor\n",
            "67. Testigo de cargo\n",
            "68. El gran dictador\n",
            "69. Aliens: El regreso\n",
            "70. Malditos bastardos\n",
            "71. El caballero oscuro: La leyenda renace\n",
            "72. ¿Teléfono rojo? Volamos hacia Moscú\n",
            "73. American Beauty\n",
            "74. Old Boy\n",
            "75. Coco\n",
            "76. Amadeus\n",
            "77. Toy Story\n",
            "78. El submarino (Das Boot)\n",
            "79. Braveheart\n",
            "80. Vengadores: Endgame\n",
            "81. Joker\n",
            "82. La princesa Mononoke\n",
            "83. El indomable Will Hunting\n",
            "84. Your Name.\n",
            "85. Érase una vez en América\n",
            "86. El infierno del odio\n",
            "87. 3 Idiots\n",
            "88. Cantando bajo la lluvia\n",
            "89. Cafarnaúm\n",
            "90. Oppenheimer\n",
            "91. Réquiem por un sueño\n",
            "92. Masacre (Ven y mira)\n",
            "93. Toy Story 3\n",
            "94. El retorno del jedi\n",
            "95. ¡Olvídate de mí!\n",
            "96. La caza\n",
            "97. 2001: Una odisea del espacio\n",
            "98. Reservoir Dogs\n",
            "99. Vivir\n",
            "100. Lawrence de Arabia\n",
            "101. El apartamento\n",
            "102. Con la muerte en los talones\n",
            "103. Ciudadano Kane\n",
            "104. Incendios\n",
            "105. Vértigo (De entre los muertos)\n",
            "106. M, el vampiro de Düsseldorf\n",
            "107. Perdición\n",
            "108. El precio del poder\n",
            "109. Amelie\n",
            "110. La chaqueta metálica\n",
            "111. La naranja mecánica\n",
            "112. Heat\n",
            "113. Up\n",
            "114. Matar a un ruiseñor\n",
            "115. El golpe\n",
            "116. Nader y Simin, una separación\n",
            "117. Indiana Jones y la última cruzada\n",
            "118. Jungla de cristal\n",
            "119. Metrópolis\n",
            "120. Taare Zameen Par\n",
            "121. Hamilton\n",
            "122. Snatch. Cerdos y diamantes\n",
            "123. L.A. Confidential\n",
            "124. Ladrón de bicicletas\n",
            "125. 1917\n",
            "126. Taxi Driver\n",
            "127. El hundimiento\n",
            "128. Dangal\n",
            "129. La muerte tenía un precio\n",
            "130. Batman Begins\n",
            "131. El lobo de Wall Street\n",
            "132. Con faldas y a lo loco\n",
            "133. El chico\n",
            "134. Green Book\n",
            "135. El padre\n",
            "136. Vencedores o vencidos\n",
            "137. Eva al desnudo\n",
            "138. El show de Truman\n",
            "139. Top Gun: Maverick\n",
            "140. Shutter Island\n",
            "141. Pozos de ambición\n",
            "142. Casino\n",
            "143. Ran\n",
            "144. Jurassic Park (Parque Jurásico)\n",
            "145. El sexto sentido\n",
            "146. El laberinto del fauno\n",
            "147. Sin perdón\n",
            "148. No es país para viejos\n",
            "149. Una mente maravillosa\n",
            "150. La cosa (El enigma de otro mundo)\n",
            "151. El tesoro de Sierra Madre\n",
            "152. Kill Bill: Volumen 1\n",
            "153. Yojimbo\n",
            "154. Los caballeros de la mesa cuadrada y sus locos seguidores\n",
            "155. La gran evasión\n",
            "156. Buscando a Nemo\n",
            "157. Rashomon\n",
            "158. Prisioneros\n",
            "159. El castillo ambulante\n",
            "160. El hombre elefante\n",
            "161. Chinatown\n",
            "162. Crimen perfecto\n",
            "163. Lo que el viento se llevó\n",
            "164. V de vendetta\n",
            "165. Lock & Stock\n",
            "166. El secreto de sus ojos\n",
            "167. Del revés (Inside Out)\n",
            "168. Toro salvaje\n",
            "169. Tres anuncios en las afueras\n",
            "170. Trainspotting\n",
            "171. El puente sobre el río Kwai\n",
            "172. Spider-Man: No Way Home\n",
            "173. Fargo\n",
            "174. Klaus\n",
            "175. Warrior\n",
            "176. Atrápame si puedes\n",
            "177. Godzilla Minus One\n",
            "178. Gran Torino\n",
            "179. Mi vecino Totoro\n",
            "180. Million Dollar Baby\n",
            "181. Harry Potter y las Reliquias de la Muerte: Parte 2\n",
            "182. Children of Heaven\n",
            "183. 12 años de esclavitud\n",
            "184. Blade Runner\n",
            "185. Antes de amanecer\n",
            "186. Ben-Hur\n",
            "187. El gran hotel Budapest\n",
            "188. Barry Lyndon\n",
            "189. Perdida\n",
            "190. Hasta el último hombre (Hacksaw Ridge)\n",
            "191. La quimera del oro\n",
            "192. Memories of Murder (Crónica de un asesino en serie)\n",
            "193. En el nombre del padre\n",
            "194. El club de los poetas muertos\n",
            "195. La ley del silencio\n",
            "196. El cazador\n",
            "197. El maquinista de La General\n",
            "198. Relatos salvajes\n",
            "199. Mad Max: Furia en la carretera\n",
            "200. Monstruos, S.A.\n",
            "201. El moderno Sherlock Holmes\n",
            "202. El tercer hombre\n",
            "203. Fresas salvajes\n",
            "204. El salario del miedo\n",
            "205. Tiburón\n",
            "206. Cómo entrenar a tu dragón\n",
            "207. Mary and Max\n",
            "208. Caballero sin espada\n",
            "209. Ratatouille\n",
            "210. Le Mans '66\n",
            "211. El gran Lebowski\n",
            "212. Cuentos de Tokio\n",
            "213. La habitación\n",
            "214. El séptimo sello\n",
            "215. Rocky\n",
            "216. Logan\n",
            "217. Spotlight\n",
            "218. Hotel Rwanda\n",
            "219. Platoon\n",
            "220. Terminator\n",
            "221. La pasión de Juana de Arco\n",
            "222. Antes del atardecer\n",
            "223. El odio\n",
            "224. Los mejores años de nuestra vida\n",
            "225. El exorcista\n",
            "226. Piratas del Caribe: La maldición de la Perla Negra\n",
            "227. Rush\n",
            "228. Jai Bhim\n",
            "229. Network, un mundo implacable\n",
            "230. Cuenta conmigo\n",
            "231. El mago de Oz\n",
            "232. Los Increíbles\n",
            "233. Siempre a tu lado (Hachiko)\n",
            "234. La doncella\n",
            "235. Hacia rutas salvajes\n",
            "236. Mi padre y mi hijo\n",
            "237. Sonrisas y lágrimas\n",
            "238. Las uvas de la ira\n",
            "239. La batalla de Argel\n",
            "240. Ser o no ser\n",
            "241. Atrapado en el tiempo\n",
            "242. Amores perros\n",
            "243. Rebeca\n",
            "244. La leyenda del indomable\n",
            "245. El gigante de hierro\n",
            "246. Criadas y señoras\n",
            "247. Sucedió una noche\n",
            "248. Aladdín\n",
            "249. Bailando con lobos\n",
            "250. Paris, Texas\n"
          ]
        }
      ],
      "source": [
        "# Main program\n",
        "# la url a la que accedemos\n",
        "#url=\"https://www.imdb.com/chart/moviemeter/?sort=release_date%2Cdesc\"\n",
        "url=\"https://www.imdb.com/chart/top/\"\n",
        "headers = {\n",
        "    'User-Agent': 'Mozilla/5.0 (Windows NT 10.0; Win64; x64) AppleWebKit/537.36 (KHTML, like Gecko) Chrome/58.0.3029.110 Safari/537.3'}\n",
        "\n",
        "soup = fetch_movies(url, headers)\n",
        "movies,lista_dur = extract_movie_data(soup)\n",
        "\n",
        "# El código original lo usaba para comprobar que los datos se habían extraído correctamente\n",
        "#lo he puesto en 0 para que muestre todas las peliculas\n",
        "min_rating = 0\n",
        "write_movies_to_csv(movies, min_rating, filename)"
      ]
    },
    {
      "cell_type": "code",
      "execution_count": 7,
      "metadata": {},
      "outputs": [
        {
          "data": {
            "text/plain": [
              "250"
            ]
          },
          "execution_count": 7,
          "metadata": {},
          "output_type": "execute_result"
        }
      ],
      "source": [
        "len(movies)"
      ]
    },
    {
      "cell_type": "markdown",
      "metadata": {
        "id": "M50e0zMHuOGT"
      },
      "source": [
        "A partir de aquí son celdas en las que hice pruebas etc."
      ]
    },
    {
      "cell_type": "code",
      "execution_count": null,
      "metadata": {
        "id": "Hx8R6nFeuOGU",
        "outputId": "144d4cf8-2f27-4166-f13a-9f335ac8d82b"
      },
      "outputs": [
        {
          "name": "stdout",
          "output_type": "stream",
          "text": [
            "names 262 cal 250 rev 250 numbers 250\n"
          ]
        }
      ],
      "source": [
        "print(\"names\",len(movie_IDBMn[0]),\n",
        "      \"cal\",len(movie_IDBMc[0]),\n",
        "            \"rev\",len(movie_IDBMr[0]),\n",
        "                  \"numbers\",len(lista_dur[0]))\n"
      ]
    },
    {
      "cell_type": "code",
      "execution_count": null,
      "metadata": {
        "id": "aJ3eom0ruOGU",
        "outputId": "24c0b54c-c7da-40eb-b7c8-b7b9be2ce5ea"
      },
      "outputs": [
        {
          "data": {
            "text/plain": [
              "<div class=\"sc-b0691f29-7 hrgukm cli-title-metadata\"><span class=\"sc-b0691f29-8 ilsLEX cli-title-metadata-item\">1980</span><span class=\"sc-b0691f29-8 ilsLEX cli-title-metadata-item\">2h 4m</span><span class=\"sc-b0691f29-8 ilsLEX cli-title-metadata-item\">A</span></div>"
            ]
          },
          "execution_count": 155,
          "metadata": {},
          "output_type": "execute_result"
        }
      ],
      "source": [
        "lista_dur[0][15]"
      ]
    },
    {
      "cell_type": "code",
      "execution_count": null,
      "metadata": {
        "id": "uw23CsgXuOGV",
        "outputId": "badd54bd-f150-45d4-9067-0c5c562d4bc1"
      },
      "outputs": [
        {
          "data": {
            "text/plain": [
              "4"
            ]
          },
          "execution_count": 156,
          "metadata": {},
          "output_type": "execute_result"
        }
      ],
      "source": [
        "movie_IDBMn[0][197].text.strip().find(\" \")"
      ]
    },
    {
      "cell_type": "code",
      "execution_count": null,
      "metadata": {
        "id": "TGaS7q4cuOGV"
      },
      "outputs": [],
      "source": [
        "# #contar el número de \"Null\" en la columna de duracion del csv movies.csv\n",
        "\n",
        "# import pandas as pd\n",
        "# df=pd.read_csv('movies.csv')\n",
        "# print(df['Duration'].value_counts()['Null'])"
      ]
    }
  ],
  "metadata": {
    "colab": {
      "provenance": [],
      "toc_visible": true
    },
    "kernelspec": {
      "display_name": "Python 3",
      "language": "python",
      "name": "python3"
    },
    "language_info": {
      "codemirror_mode": {
        "name": "ipython",
        "version": 3
      },
      "file_extension": ".py",
      "mimetype": "text/x-python",
      "name": "python",
      "nbconvert_exporter": "python",
      "pygments_lexer": "ipython3",
      "version": "3.12.1"
    }
  },
  "nbformat": 4,
  "nbformat_minor": 0
}
