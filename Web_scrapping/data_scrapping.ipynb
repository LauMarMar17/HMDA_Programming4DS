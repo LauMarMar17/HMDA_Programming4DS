{
 "cells": [
  {
   "cell_type": "code",
   "execution_count": 1,
   "metadata": {},
   "outputs": [],
   "source": [
    "import pandas as pd\n",
    "from selenium import webdriver\n",
    "from selenium.common.exceptions import ElementClickInterceptedException\n",
    "from selenium.common.exceptions import TimeoutException\n",
    "from selenium.webdriver.common.by import By\n",
    "from selenium.webdriver.support import expected_conditions as EC\n",
    "from selenium.webdriver.support.wait import WebDriverWait\n",
    "\n",
    "from bs4 import BeautifulSoup # class for web scraping. It allows you to interact with HTML in a similar way to how you would interact with a web page using developer tools.\n",
    "import requests"
   ]
  },
  {
   "cell_type": "code",
   "execution_count": 54,
   "metadata": {},
   "outputs": [],
   "source": [
    "browser = webdriver.Edge(\"msedgedriver.exe\")\n",
    "browser.maximize_window()\n",
    "browser.get(\"https://www.imdb.com/\")\n",
    "\n",
    "# access the web and accept cookies automatically: //*[@id=\"__next\"]/div/div/div[2]/div/button[2]\n",
    "try:\n",
    "    WebDriverWait(browser, 10).until(\n",
    "        EC.element_to_be_clickable((By.XPATH, '//*[@id=\"__next\"]/div/div/div[2]/div/button[2]'))\n",
    "    ).click()\n",
    "    # Clicar en desplegable //*[@id=\"imdbHeader-navDrawerOpen\"]/span\n",
    "    WebDriverWait(browser, 10).until(\n",
    "        EC.element_to_be_clickable((By.XPATH, '//*[@id=\"imdbHeader-navDrawerOpen\"]/span'))\n",
    "    ).click()\n",
    "    \n",
    "    WebDriverWait(browser, 10).until(\n",
    "        EC.element_to_be_clickable((By.XPATH, '//*[@id=\"imdbHeader\"]/div[2]/aside[1]/div/div[2]/div/div[1]/span/div/div/ul/a[2]/span'))\n",
    "    ).click()\n",
    "    # sort by duration\n",
    "    browser.find_element(By.XPATH, '//*[@id=\"sort-by-selector\"]/option[8]').click()\n",
    "except TimeoutException:\n",
    "    pass\n",
    "\n",
    "element = WebDriverWait(browser, 10).until(\n",
    "    EC.presence_of_element_located((By.XPATH, '/html/body/div[2]/main/div/div[3]/section/div/div[2]/div/ul'))\n",
    ")\n",
    "\n",
    "table_html = element.get_attribute('outerHTML')\n",
    "\n",
    "\n",
    "soup = BeautifulSoup(table_html, \"html.parser\")\n",
    "titles = [title.text for title in soup.find_all('h3', class_='ipc-title__text')]\n",
    "# Remove numbers from titles\n",
    "titles = [title.split('.')[1] for title in titles]\n",
    "titles = [title[1:] for title in titles]\n",
    "\n",
    "califications = [calification.text for calification in soup.find_all('span', class_='ipc-rating-star ipc-rating-star--base ipc-rating-star--imdb ratingGroup--imdb-rating')]\n",
    "# from califications  only whats left of \"\\xa0\"\n",
    "califications = [calification.split('\\xa0')[0] for calification in califications]\n",
    "\n",
    "years = [year.text for year in soup.find_all('span', class_='sc-b0691f29-8 ilsLEX cli-title-metadata-item')]\n",
    "# from years only interested in what have 4 digits\n",
    "years = [year for year in years if len(year) == 4]\n",
    "\n",
    "durations = [duration.text for duration in soup.find_all('span', class_=\"sc-b0691f29-8 ilsLEX cli-title-metadata-item\")]\n",
    "# from durations only interested if contains \"m\"\n",
    "durations = [duration for duration in durations if 'm' in duration]"
   ]
  },
  {
   "cell_type": "code",
   "execution_count": 47,
   "metadata": {},
   "outputs": [
    {
     "name": "stdout",
     "output_type": "stream",
     "text": [
      "                                      Title  Year Duration Calification\n",
      "0                El moderno Sherlock Holmes  1924      45m          8,2\n",
      "1                                  El chico  1921    1h 8m          8,2\n",
      "2               El maquinista de La General  1926   1h 18m          8,1\n",
      "3                       Antes del atardecer  2004   1h 20m          8,1\n",
      "4                                 Toy Story  1995   1h 21m          8,3\n",
      "..                                      ...   ...      ...          ...\n",
      "167                          Shutter Island  2010   2h 19m          8,2\n",
      "168                                       L  1997   2h 19m          8,2\n",
      "169                          Eva al desnudo  1950   2h 20m          8,2\n",
      "170                     El club de la lucha  1999   2h 20m          8,8\n",
      "171  Hasta el último hombre (Hacksaw Ridge)  2016   2h 20m          8,1\n",
      "\n",
      "[172 rows x 4 columns]\n"
     ]
    }
   ],
   "source": [
    "# Create a DataFrame with Title, Year, Duration and Calification\n",
    "df = pd.DataFrame(list(zip(titles, years, durations, califications)), columns=['Title', 'Year', 'Duration', 'Calification'])\n",
    "print(df)"
   ]
  },
  {
   "cell_type": "code",
   "execution_count": 59,
   "metadata": {},
   "outputs": [],
   "source": [
    "# Pinchar otra vez en menú\n",
    "WebDriverWait(browser, 10).until(\n",
    "        EC.element_to_be_clickable((By.XPATH, '//*[@id=\"imdbHeader-navDrawerOpen\"]/span'))\n",
    "    ).click()\n",
    "# Pinchar en Calendario de lanzamientos\n",
    "WebDriverWait(browser, 10).until(\n",
    "        EC.element_to_be_clickable((By.XPATH, '//*[@id=\"imdbHeader\"]/div[2]/aside[1]/div/div[2]/div/div[1]/span/div/div/ul/a[1]/span'))\n",
    "    ).click()\n",
    "# Tabla de lanzamientos\n",
    "element = WebDriverWait(browser, 10).until(\n",
    "    EC.presence_of_element_located((By.XPATH, '//*[@id=\"__next\"]/main/div/div[3]/section/section'))\n",
    ")\n",
    "\n",
    "\n",
    "table_html = element.get_attribute('outerHTML')\n",
    "soup = BeautifulSoup(table_html, \"html.parser\")\n",
    "\n",
    "# Buscar cada tabla: //*[@id=\"__next\"]/main/div/div[3]/section/section/article[1]\n",
    "\n",
    "# create a dataframe with movie and release date\n",
    "df2 = pd.DataFrame(columns=['Date', 'Title'])\n",
    "\n",
    "tables = soup.find_all('article')\n",
    "for table in tables:\n",
    "    date = table.find('h3', class_='ipc-title__text').text\n",
    "    titles = [title.text for title in table.find_all('a', class_='ipc-metadata-list-summary-item__t')]\n",
    "    # Add to dataframe\n",
    "    for title in titles:\n",
    "        df2.loc[len(df2)] = [date, title]"
   ]
  },
  {
   "cell_type": "code",
   "execution_count": null,
   "metadata": {},
   "outputs": [],
   "source": []
  }
 ],
 "metadata": {
  "kernelspec": {
   "display_name": "programming",
   "language": "python",
   "name": "python3"
  },
  "language_info": {
   "codemirror_mode": {
    "name": "ipython",
    "version": 3
   },
   "file_extension": ".py",
   "mimetype": "text/x-python",
   "name": "python",
   "nbconvert_exporter": "python",
   "pygments_lexer": "ipython3",
   "version": "3.12.1"
  }
 },
 "nbformat": 4,
 "nbformat_minor": 2
}
