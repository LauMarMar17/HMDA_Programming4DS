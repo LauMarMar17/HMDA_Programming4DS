{
 "cells": [
  {
   "cell_type": "code",
   "execution_count": 1,
   "metadata": {},
   "outputs": [],
   "source": [
    "import pandas as pd\n",
    "from selenium import webdriver\n",
    "from selenium.common.exceptions import ElementClickInterceptedException\n",
    "from selenium.common.exceptions import TimeoutException\n",
    "from selenium.webdriver.common.by import By\n",
    "from selenium.webdriver.support import expected_conditions as EC\n",
    "from selenium.webdriver.support.wait import WebDriverWait\n",
    "\n",
    "from bs4 import BeautifulSoup # class for web scraping. It allows you to interact with HTML in a similar way to how you would interact with a web page using developer tools.\n",
    "import requests"
   ]
  },
  {
   "cell_type": "code",
   "execution_count": 9,
   "metadata": {},
   "outputs": [],
   "source": [
    "browser = webdriver.Edge(\"msedgedriver.exe\")\n",
    "browser.maximize_window()\n",
    "browser.get(\"https://www.imdb.com/\")\n",
    "\n",
    "# access the web and accept cookies automatically: //*[@id=\"__next\"]/div/div/div[2]/div/button[2]\n",
    "try:\n",
    "    WebDriverWait(browser, 10).until(\n",
    "        EC.element_to_be_clickable((By.XPATH, '//*[@id=\"__next\"]/div/div/div[2]/div/button[2]'))\n",
    "    ).click()\n",
    "    # Clicar en desplegable //*[@id=\"imdbHeader-navDrawerOpen\"]/span\n",
    "    WebDriverWait(browser, 10).until(\n",
    "        EC.element_to_be_clickable((By.XPATH, '//*[@id=\"imdbHeader-navDrawerOpen\"]/span'))\n",
    "    ).click()\n",
    "    \n",
    "    WebDriverWait(browser, 10).until(\n",
    "        EC.element_to_be_clickable((By.XPATH, '//*[@id=\"imdbHeader\"]/div[2]/aside[1]/div/div[2]/div/div[1]/span/div/div/ul/a[2]/span'))\n",
    "    ).click()\n",
    "    # sort by duration\n",
    "    browser.find_element(By.XPATH, '//*[@id=\"sort-by-selector\"]/option[8]').click()\n",
    "except TimeoutException:\n",
    "    pass\n",
    "\n",
    "element = WebDriverWait(browser, 10).until(\n",
    "    EC.presence_of_element_located((By.XPATH, '/html/body/div[2]/main/div/div[3]/section/div/div[2]/div/ul'))\n",
    ")\n",
    "\n",
    "table_html = element.get_attribute('outerHTML')\n",
    "\n",
    "\n",
    "soup = BeautifulSoup(table_html, \"html.parser\")\n",
    "titles = [title.text for title in soup.find_all('h3', class_='ipc-title__text')]\n",
    "# Remove numbers from titles\n",
    "titles = [title.split('.')[1] for title in titles]\n",
    "titles = [title[1:] for title in titles]\n",
    "\n",
    "califications = [calification.text for calification in soup.find_all('span', class_='ipc-rating-star ipc-rating-star--base ipc-rating-star--imdb ratingGroup--imdb-rating')]\n",
    "# from califications  only whats left of \"\\xa0\"\n",
    "califications = [calification.split('\\xa0')[0] for calification in califications]\n",
    "\n",
    "years = [year.text for year in soup.find_all('span', class_='sc-b0691f29-8 ilsLEX cli-title-metadata-item')]\n",
    "# from years only interested in what have 4 digits\n",
    "years = [year for year in years if len(year) == 4]\n",
    "\n",
    "durations = [duration.text for duration in soup.find_all('span', class_=\"sc-b0691f29-8 ilsLEX cli-title-metadata-item\")]\n",
    "# from durations only interested if contains \"m\"\n",
    "durations = [duration for duration in durations if 'm' or 'h' in duration]\n",
    "\n",
    "ratings = [rating.text for rating in soup.find_all('span', class_=\"sc-b0691f29-8 ilsLEX cli-title-metadata-item\")]\n",
    "ratings = [rating for rating in ratings if len(rating) <=2]\n",
    "ratings = [rating for rating in ratings if len(rating) <=2]"
   ]
  },
  {
   "cell_type": "code",
   "execution_count": null,
   "metadata": {},
   "outputs": [],
   "source": [
    "durations = [duration for duration in durations if 'm' or 'h' in duration]\n",
    "dura"
   ]
  },
  {
   "cell_type": "code",
   "execution_count": 17,
   "metadata": {},
   "outputs": [
    {
     "data": {
      "text/plain": [
       "Rating\n",
       "A     49\n",
       "18    25\n",
       "13    20\n",
       "12     8\n",
       "7      7\n",
       "16     5\n",
       "2h     4\n",
       "T      2\n",
       "14     2\n",
       "Name: count, dtype: int64"
      ]
     },
     "execution_count": 17,
     "metadata": {},
     "output_type": "execute_result"
    }
   ],
   "source": [
    "df['Rating'].value_counts()"
   ]
  },
  {
   "cell_type": "code",
   "execution_count": 13,
   "metadata": {},
   "outputs": [
    {
     "name": "stdout",
     "output_type": "stream",
     "text": [
      "                           Title  Year Duration Calification Rating\n",
      "0     El moderno Sherlock Holmes  1924      45m          8,2      A\n",
      "1                       El chico  1921    1h 8m          8,2      A\n",
      "2    El maquinista de La General  1926   1h 18m          8,1      A\n",
      "3            Antes del atardecer  2004   1h 20m          8,1     13\n",
      "4                      Toy Story  1995   1h 21m          8,3      A\n",
      "..                           ...   ...      ...          ...    ...\n",
      "117               El apartamento  1960    2h 6m          8,3      A\n",
      "118             El gran dictador  1940    2h 6m          8,4      A\n",
      "119    El indomable Will Hunting  1997    2h 7m          8,3     16\n",
      "120                    Cafarnaúm  2018    2h 7m          8,4     18\n",
      "121    El tesoro de Sierra Madre  1948    2h 7m          8,2     13\n",
      "\n",
      "[122 rows x 5 columns]\n"
     ]
    }
   ],
   "source": [
    "# Create a DataFrame with Title, Year, Duration and Calification\n",
    "df = pd.DataFrame(list(zip(titles, years, durations, califications, ratings)), columns=['Title', 'Year', 'Duration', 'Calification', 'Rating'])\n",
    "print(df)"
   ]
  },
  {
   "cell_type": "code",
   "execution_count": 24,
   "metadata": {},
   "outputs": [],
   "source": [
    "df.to_csv('../Outputs/top_250_by_duration.csv', index=False)"
   ]
  },
  {
   "cell_type": "code",
   "execution_count": 18,
   "metadata": {},
   "outputs": [],
   "source": [
    "# Pinchar otra vez en menú\n",
    "WebDriverWait(browser, 10).until(\n",
    "        EC.element_to_be_clickable((By.XPATH, '//*[@id=\"imdbHeader-navDrawerOpen\"]/span'))\n",
    "    ).click()\n",
    "# Pinchar en Calendario de lanzamientos\n",
    "WebDriverWait(browser, 10).until(\n",
    "        EC.element_to_be_clickable((By.XPATH, '//*[@id=\"imdbHeader\"]/div[2]/aside[1]/div/div[2]/div/div[1]/span/div/div/ul/a[1]/span'))\n",
    "    ).click()\n",
    "# Tabla de lanzamientos\n",
    "element = WebDriverWait(browser, 10).until(\n",
    "    EC.presence_of_element_located((By.XPATH, '//*[@id=\"__next\"]/main/div/div[3]/section/section'))\n",
    ")\n",
    "\n",
    "\n",
    "table_html = element.get_attribute('outerHTML')\n",
    "soup = BeautifulSoup(table_html, \"html.parser\")\n",
    "\n",
    "# Buscar cada tabla: //*[@id=\"__next\"]/main/div/div[3]/section/section/article[1]\n",
    "\n",
    "# create a dataframe with movie and release date\n",
    "df2 = pd.DataFrame(columns=['Date', 'Title', 'Genre'])\n",
    "\n",
    "tables = soup.find_all('article')\n",
    "for table in tables:\n",
    "    date = table.find('h3', class_='ipc-title__text').text\n",
    "    titles = [title.text for title in table.find_all('a', class_='ipc-metadata-list-summary-item__t')]\n",
    "    genre = [genre.text for genre in table.find_all('span', class_='ipc-metadata-list-summary-item__li')[0]]\n",
    "    # Add to dataframe\n",
    "    for title in titles:\n",
    "        df2.loc[len(df2)] = [date, title, genre]"
   ]
  },
  {
   "cell_type": "code",
   "execution_count": 19,
   "metadata": {},
   "outputs": [
    {
     "data": {
      "text/html": [
       "<div>\n",
       "<style scoped>\n",
       "    .dataframe tbody tr th:only-of-type {\n",
       "        vertical-align: middle;\n",
       "    }\n",
       "\n",
       "    .dataframe tbody tr th {\n",
       "        vertical-align: top;\n",
       "    }\n",
       "\n",
       "    .dataframe thead th {\n",
       "        text-align: right;\n",
       "    }\n",
       "</style>\n",
       "<table border=\"1\" class=\"dataframe\">\n",
       "  <thead>\n",
       "    <tr style=\"text-align: right;\">\n",
       "      <th></th>\n",
       "      <th>Date</th>\n",
       "      <th>Title</th>\n",
       "      <th>Genre</th>\n",
       "    </tr>\n",
       "  </thead>\n",
       "  <tbody>\n",
       "    <tr>\n",
       "      <th>0</th>\n",
       "      <td>05 abr 2024</td>\n",
       "      <td>La primera profecía (2024)</td>\n",
       "      <td>[Terror]</td>\n",
       "    </tr>\n",
       "    <tr>\n",
       "      <th>1</th>\n",
       "      <td>05 abr 2024</td>\n",
       "      <td>Pequeñas cartas indiscretas (2023)</td>\n",
       "      <td>[Terror]</td>\n",
       "    </tr>\n",
       "    <tr>\n",
       "      <th>2</th>\n",
       "      <td>05 abr 2024</td>\n",
       "      <td>Freelance (2023)</td>\n",
       "      <td>[Terror]</td>\n",
       "    </tr>\n",
       "    <tr>\n",
       "      <th>3</th>\n",
       "      <td>05 abr 2024</td>\n",
       "      <td>El consentimento (2023)</td>\n",
       "      <td>[Terror]</td>\n",
       "    </tr>\n",
       "    <tr>\n",
       "      <th>4</th>\n",
       "      <td>05 abr 2024</td>\n",
       "      <td>El castillo a través del espejo (2022)</td>\n",
       "      <td>[Terror]</td>\n",
       "    </tr>\n",
       "  </tbody>\n",
       "</table>\n",
       "</div>"
      ],
      "text/plain": [
       "          Date                                   Title     Genre\n",
       "0  05 abr 2024              La primera profecía (2024)  [Terror]\n",
       "1  05 abr 2024      Pequeñas cartas indiscretas (2023)  [Terror]\n",
       "2  05 abr 2024                        Freelance (2023)  [Terror]\n",
       "3  05 abr 2024                 El consentimento (2023)  [Terror]\n",
       "4  05 abr 2024  El castillo a través del espejo (2022)  [Terror]"
      ]
     },
     "execution_count": 19,
     "metadata": {},
     "output_type": "execute_result"
    }
   ],
   "source": [
    "df2.head()"
   ]
  },
  {
   "cell_type": "code",
   "execution_count": 25,
   "metadata": {},
   "outputs": [],
   "source": [
    "df2.to_csv('../Outputs/new_movies.csv', index=False)"
   ]
  },
  {
   "cell_type": "code",
   "execution_count": 20,
   "metadata": {},
   "outputs": [],
   "source": [
    "# Pinchar otra vez en menú\n",
    "WebDriverWait(browser, 10).until(\n",
    "        EC.element_to_be_clickable((By.XPATH, '//*[@id=\"imdbHeader-navDrawerOpen\"]/span'))\n",
    "    ).click()\n",
    "# Pinchar en Calendario de lanzamientos\n",
    "WebDriverWait(browser, 10).until(\n",
    "        EC.element_to_be_clickable((By.XPATH, '//*[@id=\"imdbHeader\"]/div[2]/aside[1]/div/div[2]/div/div[3]/span/div/div/ul/a[1]/span'))\n",
    "    ).click()\n",
    "\n",
    "WebDriverWait(browser, 10).until(\n",
    "        EC.element_to_be_clickable((By.XPATH, '//*[@id=\"__next\"]/main/div/div[3]/div[2]/div/div[2]/ul/a[2]/span '))\n",
    "    ).click()\n",
    "WebDriverWait(browser, 10).until(\n",
    "        EC.element_to_be_clickable((By.XPATH, '//*[@id=\"sidebar\"]/div[1]/div/div[2]/div[16]/span[6]/a'))\n",
    "    ).click()"
   ]
  },
  {
   "cell_type": "code",
   "execution_count": 21,
   "metadata": {},
   "outputs": [
    {
     "name": "stdout",
     "output_type": "stream",
     "text": [
      "https://www.imdb.com/event/ev0000003/2005/1/?ref_=ev_eh\n",
      "https://www.imdb.com/event/ev0000003/2006/1/?ref_=ev_eh\n",
      "https://www.imdb.com/event/ev0000003/2007/1/?ref_=ev_eh\n",
      "https://www.imdb.com/event/ev0000003/2008/1/?ref_=ev_eh\n",
      "https://www.imdb.com/event/ev0000003/2009/1/?ref_=ev_eh\n",
      "https://www.imdb.com/event/ev0000003/2010/1/?ref_=ev_eh\n",
      "https://www.imdb.com/event/ev0000003/2011/1/?ref_=ev_eh\n",
      "https://www.imdb.com/event/ev0000003/2012/1/?ref_=ev_eh\n",
      "https://www.imdb.com/event/ev0000003/2013/1/?ref_=ev_eh\n",
      "https://www.imdb.com/event/ev0000003/2014/1/?ref_=ev_eh\n",
      "https://www.imdb.com/event/ev0000003/2015/1/?ref_=ev_eh\n",
      "https://www.imdb.com/event/ev0000003/2016/1/?ref_=ev_eh\n",
      "https://www.imdb.com/event/ev0000003/2017/1/?ref_=ev_eh\n",
      "https://www.imdb.com/event/ev0000003/2018/1/?ref_=ev_eh\n",
      "https://www.imdb.com/event/ev0000003/2019/1/?ref_=ev_eh\n",
      "https://www.imdb.com/event/ev0000003/2020/1/?ref_=ev_eh\n",
      "https://www.imdb.com/event/ev0000003/2021/1/?ref_=ev_eh\n",
      "https://www.imdb.com/event/ev0000003/2022/1/?ref_=ev_eh\n",
      "https://www.imdb.com/event/ev0000003/2023/1/?ref_=ev_eh\n",
      "https://www.imdb.com/event/ev0000003/2024/1/?ref_=ev_eh\n"
     ]
    }
   ],
   "source": [
    "df_awards = pd.DataFrame(columns=['Year', 'Genres'])\n",
    "for i in range(2005,2025):\n",
    "    my_url = browser.current_url\n",
    "    my_url = my_url[0:37]+str(i)+my_url[41:]\n",
    "    print(my_url)\n",
    "    # WebDriverWait(browser, 10).until(\n",
    "    #     EC.element_to_be_clickable((By.XPATH, '//*[@id=\"center-3-react\"]/div/div/div[1]/h3/div[1]/div[2]/div[1]/div[1]/div[2]/div[2]/div[1]/span/span/a'))\n",
    "    # ).click()\n",
    "    # TAbla best picture\n",
    "    element = WebDriverWait(browser, 10).until(\n",
    "        EC.presence_of_element_located((By.XPATH, '//*[@id=\"center-3-react\"]/div/div/div[1]/h3/div[1]'))\n",
    "    )\n",
    "    table_html = element.get_attribute('outerHTML')\n",
    "    soup = BeautifulSoup(table_html, \"html.parser\")\n",
    "    refs = []\n",
    "    for a in soup.find_all('a', href=True):\n",
    "        refs.append(a['href'])\n",
    "    refs = list(set( [ref for ref in refs if 'title' in ref]))\n",
    "    genres_year = []\n",
    "    for ref in refs:\n",
    "        new_url = my_url[:21]+ref\n",
    "        browser.get(new_url)\n",
    "        tab = WebDriverWait(browser, 100).until(\n",
    "            EC.presence_of_element_located((By.XPATH, '//*[@id=\"__next\"]/main/div/section[1]/section/div[3]/section/section/div[3]/div[2]/div[1]/section/div[1]/div[2]'))\n",
    "        )\n",
    "        tab_html = tab.get_attribute('outerHTML')\n",
    "        soup = BeautifulSoup(tab_html, \"html.parser\")\n",
    "        genres = [genre.text for genre in soup.find_all('span', class_='ipc-chip__text')]\n",
    "        for g in genres:\n",
    "            genres_year.append(g)\n",
    "    browser.get(my_url)\n",
    "\n",
    "    df_awards.loc[len(df_awards)] = [i, genres_year]\n",
    "\n",
    "    \n",
    "\n",
    "    "
   ]
  },
  {
   "cell_type": "code",
   "execution_count": 23,
   "metadata": {},
   "outputs": [
    {
     "data": {
      "text/html": [
       "<div>\n",
       "<style scoped>\n",
       "    .dataframe tbody tr th:only-of-type {\n",
       "        vertical-align: middle;\n",
       "    }\n",
       "\n",
       "    .dataframe tbody tr th {\n",
       "        vertical-align: top;\n",
       "    }\n",
       "\n",
       "    .dataframe thead th {\n",
       "        text-align: right;\n",
       "    }\n",
       "</style>\n",
       "<table border=\"1\" class=\"dataframe\">\n",
       "  <thead>\n",
       "    <tr style=\"text-align: right;\">\n",
       "      <th></th>\n",
       "      <th>Year</th>\n",
       "      <th>Genres</th>\n",
       "    </tr>\n",
       "  </thead>\n",
       "  <tbody>\n",
       "    <tr>\n",
       "      <th>15</th>\n",
       "      <td>2020</td>\n",
       "      <td>[Drama, Biografía, Comedia, Drama, Biografía, ...</td>\n",
       "    </tr>\n",
       "    <tr>\n",
       "      <th>16</th>\n",
       "      <td>2021</td>\n",
       "      <td>[Acción, Biografía, Drama, Biografía, Crimen, ...</td>\n",
       "    </tr>\n",
       "    <tr>\n",
       "      <th>17</th>\n",
       "      <td>2022</td>\n",
       "      <td>[Drama, Misterio, Drama, Historia, Suspense, B...</td>\n",
       "    </tr>\n",
       "    <tr>\n",
       "      <th>18</th>\n",
       "      <td>2023</td>\n",
       "      <td>[Crimen, Drama, Musical, Comedia, Drama, Cienc...</td>\n",
       "    </tr>\n",
       "    <tr>\n",
       "      <th>19</th>\n",
       "      <td>2024</td>\n",
       "      <td>[Biografía, Drama, Música, Acción, Drama, Dram...</td>\n",
       "    </tr>\n",
       "  </tbody>\n",
       "</table>\n",
       "</div>"
      ],
      "text/plain": [
       "    Year                                             Genres\n",
       "15  2020  [Drama, Biografía, Comedia, Drama, Biografía, ...\n",
       "16  2021  [Acción, Biografía, Drama, Biografía, Crimen, ...\n",
       "17  2022  [Drama, Misterio, Drama, Historia, Suspense, B...\n",
       "18  2023  [Crimen, Drama, Musical, Comedia, Drama, Cienc...\n",
       "19  2024  [Biografía, Drama, Música, Acción, Drama, Dram..."
      ]
     },
     "execution_count": 23,
     "metadata": {},
     "output_type": "execute_result"
    }
   ],
   "source": [
    "df_awards.tail()"
   ]
  },
  {
   "cell_type": "code",
   "execution_count": 26,
   "metadata": {},
   "outputs": [],
   "source": [
    "df_awards.to_csv('../Outputs/awards.csv', index=False)"
   ]
  },
  {
   "cell_type": "code",
   "execution_count": null,
   "metadata": {},
   "outputs": [],
   "source": []
  }
 ],
 "metadata": {
  "kernelspec": {
   "display_name": "programming",
   "language": "python",
   "name": "python3"
  },
  "language_info": {
   "codemirror_mode": {
    "name": "ipython",
    "version": 3
   },
   "file_extension": ".py",
   "mimetype": "text/x-python",
   "name": "python",
   "nbconvert_exporter": "python",
   "pygments_lexer": "ipython3",
   "version": "3.12.1"
  }
 },
 "nbformat": 4,
 "nbformat_minor": 2
}
