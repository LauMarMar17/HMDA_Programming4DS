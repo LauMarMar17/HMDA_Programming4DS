{
 "cells": [
  {
   "cell_type": "markdown",
   "metadata": {},
   "source": [
    "# Imports"
   ]
  },
  {
   "cell_type": "code",
   "execution_count": 1,
   "metadata": {},
   "outputs": [],
   "source": [
    "import pandas as pd\n",
    "# Selenium is a web testing library. It is used to automate browser activities. (Dynamic web pages)\n",
    "from selenium import webdriver\n",
    "from selenium.common.exceptions import ElementClickInterceptedException\n",
    "from selenium.common.exceptions import TimeoutException\n",
    "from selenium.webdriver.common.by import By\n",
    "from selenium.webdriver.support import expected_conditions as EC\n",
    "from selenium.webdriver.support.wait import WebDriverWait\n",
    "\n",
    "# BeautifulSoup is a Python library for pulling data out of HTML and XML files. It creates parse trees that is helpful to extract the data easily.\n",
    "from bs4 import BeautifulSoup\n",
    "import requests\n",
    "\n",
    "from useful import *"
   ]
  },
  {
   "cell_type": "markdown",
   "metadata": {},
   "source": [
    "# Connect to IMDb web"
   ]
  },
  {
   "cell_type": "code",
   "execution_count": 2,
   "metadata": {},
   "outputs": [],
   "source": [
    "# Connect to the web\n",
    "browser = webdriver.Edge(\"msedgedriver.exe\")\n",
    "browser.maximize_window()\n",
    "browser.get(\"https://www.imdb.com/\")"
   ]
  },
  {
   "cell_type": "markdown",
   "metadata": {},
   "source": [
    "# 1. Top 250 Movies\n",
    "\n",
    "1. Reject Cookies\n",
    "2. Click on the \"Drop-Down Menu\"\n",
    "3. Click on \"Top 250 best movies\"\n",
    "\n",
    "Data Extracted\n",
    "- Movie Title\n",
    "- Calification\n",
    "- Number of reviews\n",
    "- Year\n",
    "- Duration\n",
    "- Rating"
   ]
  },
  {
   "cell_type": "code",
   "execution_count": 10,
   "metadata": {},
   "outputs": [],
   "source": [
    "try:\n",
    "    # # Change to English version\n",
    "    # WebDriverWait(browser, 10).until(\n",
    "    #     EC.element_to_be_clickable((By.XPATH, '//*[@id=\"imdbHeader\"]/div[2]/div[6]/label'))\n",
    "    # ).click()\n",
    "    # WebDriverWait(browser, 10).until(\n",
    "    #     EC.element_to_be_clickable((By.XPATH, '//*[@id=\"language-option-en-US\"]'))\n",
    "    # ).click()\n",
    "    try:\n",
    "        # Reject Cookies\n",
    "        WebDriverWait(browser, 10).until(\n",
    "            EC.element_to_be_clickable((By.XPATH, '//*[@id=\"__next\"]/div/div/div[2]/div/button[1]'))\n",
    "        ).click()\n",
    "    except TimeoutException:\n",
    "        pass\n",
    "    # Clicar en desplegable //*[@id=\"imdbHeader-navDrawerOpen\"]/span\n",
    "    WebDriverWait(browser, 10).until(\n",
    "        EC.element_to_be_clickable((By.XPATH, '//*[@id=\"imdbHeader-navDrawerOpen\"]/span'))\n",
    "    ).click()\n",
    "    \n",
    "    WebDriverWait(browser, 10).until(\n",
    "        EC.element_to_be_clickable((By.XPATH, '//*[@id=\"imdbHeader\"]/div[2]/aside[1]/div/div[2]/div/div[1]/span/div/div/ul/a[2]/span'))\n",
    "    ).click()\n",
    "except TimeoutException:\n",
    "    pass"
   ]
  },
  {
   "cell_type": "code",
   "execution_count": 11,
   "metadata": {},
   "outputs": [],
   "source": [
    "my_url = browser.current_url\n",
    "headers = {\n",
    "    'User-Agent': 'Mozilla/5.0 (Windows NT 10.0; Win64; x64) AppleWebKit/537.36 (KHTML, like Gecko) Chrome/58.0.3029.110 Safari/537.3'}\n",
    "\n",
    "soup = BeautifulSoup(requests.get(my_url, headers=headers).content, \"html.parser\")\n",
    "data = extract_top250movie_data(soup)\n",
    "df = pd.DataFrame(data, columns=['Movie', 'Calification', 'N.Reviews', 'Year', 'Duration', 'Rating'])"
   ]
  },
  {
   "cell_type": "code",
   "execution_count": 12,
   "metadata": {},
   "outputs": [],
   "source": [
    "# Save CSV\n",
    "df.to_csv('../Outputs/top_250.csv', index=False)"
   ]
  },
  {
   "cell_type": "markdown",
   "metadata": {},
   "source": [
    "# 2. Upcoming Movie Release\n",
    "1. Click on the \"Drop-Down Menu\"\n",
    "2. Click on \"Release Schedule\""
   ]
  },
  {
   "cell_type": "code",
   "execution_count": 40,
   "metadata": {},
   "outputs": [],
   "source": [
    "# Menu\n",
    "WebDriverWait(browser, 10).until(\n",
    "        EC.element_to_be_clickable((By.XPATH, '//*[@id=\"imdbHeader-navDrawerOpen\"]/span'))\n",
    "    ).click()\n",
    "# Release Schedule\n",
    "WebDriverWait(browser, 10).until(\n",
    "        EC.element_to_be_clickable((By.XPATH, '//*[@id=\"imdbHeader\"]/div[2]/aside[1]/div/div[2]/div/div[1]/span/div/div/ul/a[1]/span'))\n",
    "    ).click()\n"
   ]
  },
  {
   "cell_type": "markdown",
   "metadata": {},
   "source": [
    "__Information obtained:__\n",
    "* Release Date\n",
    "* Movie Title\n",
    "* Genres"
   ]
  },
  {
   "cell_type": "markdown",
   "metadata": {},
   "source": [
    "### Spain"
   ]
  },
  {
   "cell_type": "code",
   "execution_count": 41,
   "metadata": {},
   "outputs": [],
   "source": [
    "countries = {'ES':'//*[@id=\"country-selector\"]/option[38]',\n",
    "             'DE':'//*[@id=\"country-selector\"]/option[4]',\n",
    "             'IT':'//*[@id=\"country-selector\"]/option[61]',\n",
    "             'GB':'//*[@id=\"country-selector\"]/option[91]',\n",
    "             }"
   ]
  },
  {
   "cell_type": "code",
   "execution_count": 44,
   "metadata": {},
   "outputs": [],
   "source": [
    "for countrie in countries.keys():\n",
    "    # Click on Spain\n",
    "    WebDriverWait(browser, 10).until(\n",
    "            EC.element_to_be_clickable((By.XPATH, countries[countrie]))\n",
    "        ).click()\n",
    "\n",
    "    # New releases table to html \n",
    "    element = WebDriverWait(browser, 10).until(\n",
    "        EC.presence_of_element_located((By.XPATH, '//*[@id=\"__next\"]/main/div/div[3]/section/section'))\n",
    "    )\n",
    "    table_html = element.get_attribute('outerHTML')\n",
    "    soup = BeautifulSoup(table_html, \"html.parser\")\n",
    "\n",
    "    df2 = extract_newreleases_data(soup)\n",
    "    df2.to_csv('../Outputs/new_movies_{}.csv'.format(countrie), index=False)"
   ]
  },
  {
   "cell_type": "code",
   "execution_count": 27,
   "metadata": {},
   "outputs": [
    {
     "data": {
      "text/html": [
       "<div>\n",
       "<style scoped>\n",
       "    .dataframe tbody tr th:only-of-type {\n",
       "        vertical-align: middle;\n",
       "    }\n",
       "\n",
       "    .dataframe tbody tr th {\n",
       "        vertical-align: top;\n",
       "    }\n",
       "\n",
       "    .dataframe thead th {\n",
       "        text-align: right;\n",
       "    }\n",
       "</style>\n",
       "<table border=\"1\" class=\"dataframe\">\n",
       "  <thead>\n",
       "    <tr style=\"text-align: right;\">\n",
       "      <th></th>\n",
       "      <th>Date</th>\n",
       "      <th>Title</th>\n",
       "      <th>Genres</th>\n",
       "    </tr>\n",
       "  </thead>\n",
       "  <tbody>\n",
       "    <tr>\n",
       "      <th>0</th>\n",
       "      <td>05 abr 2024</td>\n",
       "      <td>La primera profecía (2024)</td>\n",
       "      <td>[Terror, Comedia, Crimen, Drama, Acción, Comed...</td>\n",
       "    </tr>\n",
       "    <tr>\n",
       "      <th>1</th>\n",
       "      <td>05 abr 2024</td>\n",
       "      <td>Pequeñas cartas indiscretas (2023)</td>\n",
       "      <td>[Terror, Comedia, Crimen, Drama, Acción, Comed...</td>\n",
       "    </tr>\n",
       "    <tr>\n",
       "      <th>2</th>\n",
       "      <td>05 abr 2024</td>\n",
       "      <td>Freelance (2023)</td>\n",
       "      <td>[Terror, Comedia, Crimen, Drama, Acción, Comed...</td>\n",
       "    </tr>\n",
       "    <tr>\n",
       "      <th>3</th>\n",
       "      <td>05 abr 2024</td>\n",
       "      <td>Johnny Puff. Misión secreta (2024)</td>\n",
       "      <td>[Terror, Comedia, Crimen, Drama, Acción, Comed...</td>\n",
       "    </tr>\n",
       "    <tr>\n",
       "      <th>4</th>\n",
       "      <td>05 abr 2024</td>\n",
       "      <td>El consentimento (2023)</td>\n",
       "      <td>[Terror, Comedia, Crimen, Drama, Acción, Comed...</td>\n",
       "    </tr>\n",
       "  </tbody>\n",
       "</table>\n",
       "</div>"
      ],
      "text/plain": [
       "          Date                               Title  \\\n",
       "0  05 abr 2024          La primera profecía (2024)   \n",
       "1  05 abr 2024  Pequeñas cartas indiscretas (2023)   \n",
       "2  05 abr 2024                    Freelance (2023)   \n",
       "3  05 abr 2024  Johnny Puff. Misión secreta (2024)   \n",
       "4  05 abr 2024             El consentimento (2023)   \n",
       "\n",
       "                                              Genres  \n",
       "0  [Terror, Comedia, Crimen, Drama, Acción, Comed...  \n",
       "1  [Terror, Comedia, Crimen, Drama, Acción, Comed...  \n",
       "2  [Terror, Comedia, Crimen, Drama, Acción, Comed...  \n",
       "3  [Terror, Comedia, Crimen, Drama, Acción, Comed...  \n",
       "4  [Terror, Comedia, Crimen, Drama, Acción, Comed...  "
      ]
     },
     "execution_count": 27,
     "metadata": {},
     "output_type": "execute_result"
    }
   ],
   "source": [
    "df2.head()"
   ]
  },
  {
   "cell_type": "code",
   "execution_count": 24,
   "metadata": {},
   "outputs": [
    {
     "data": {
      "text/html": [
       "<div>\n",
       "<style scoped>\n",
       "    .dataframe tbody tr th:only-of-type {\n",
       "        vertical-align: middle;\n",
       "    }\n",
       "\n",
       "    .dataframe tbody tr th {\n",
       "        vertical-align: top;\n",
       "    }\n",
       "\n",
       "    .dataframe thead th {\n",
       "        text-align: right;\n",
       "    }\n",
       "</style>\n",
       "<table border=\"1\" class=\"dataframe\">\n",
       "  <thead>\n",
       "    <tr style=\"text-align: right;\">\n",
       "      <th></th>\n",
       "      <th>Date</th>\n",
       "      <th>Title</th>\n",
       "      <th>Genres</th>\n",
       "    </tr>\n",
       "  </thead>\n",
       "  <tbody>\n",
       "    <tr>\n",
       "      <th>127</th>\n",
       "      <td>17 ene 2025</td>\n",
       "      <td>M3GAN 2.0 (2025)</td>\n",
       "      <td>[Terror, Suspense]</td>\n",
       "    </tr>\n",
       "    <tr>\n",
       "      <th>128</th>\n",
       "      <td>31 ene 2025</td>\n",
       "      <td>Mickey 17 (2025)</td>\n",
       "      <td>[Aventura, Drama]</td>\n",
       "    </tr>\n",
       "    <tr>\n",
       "      <th>129</th>\n",
       "      <td>14 feb 2025</td>\n",
       "      <td>Captain America: Brave New World (2025)</td>\n",
       "      <td>[Acción, Aventura, Romance]</td>\n",
       "    </tr>\n",
       "    <tr>\n",
       "      <th>130</th>\n",
       "      <td>14 feb 2025</td>\n",
       "      <td>Sigue mi voz (2025)</td>\n",
       "      <td>[Acción, Aventura, Romance]</td>\n",
       "    </tr>\n",
       "    <tr>\n",
       "      <th>131</th>\n",
       "      <td>22 mar 2025</td>\n",
       "      <td>Snow White (2025)</td>\n",
       "      <td>[Aventura, Drama, Familiar]</td>\n",
       "    </tr>\n",
       "  </tbody>\n",
       "</table>\n",
       "</div>"
      ],
      "text/plain": [
       "            Date                                    Title  \\\n",
       "127  17 ene 2025                         M3GAN 2.0 (2025)   \n",
       "128  31 ene 2025                         Mickey 17 (2025)   \n",
       "129  14 feb 2025  Captain America: Brave New World (2025)   \n",
       "130  14 feb 2025                      Sigue mi voz (2025)   \n",
       "131  22 mar 2025                        Snow White (2025)   \n",
       "\n",
       "                          Genres  \n",
       "127           [Terror, Suspense]  \n",
       "128            [Aventura, Drama]  \n",
       "129  [Acción, Aventura, Romance]  \n",
       "130  [Acción, Aventura, Romance]  \n",
       "131  [Aventura, Drama, Familiar]  "
      ]
     },
     "execution_count": 24,
     "metadata": {},
     "output_type": "execute_result"
    }
   ],
   "source": [
    "df2.tail()"
   ]
  },
  {
   "cell_type": "code",
   "execution_count": 29,
   "metadata": {},
   "outputs": [],
   "source": [
    "df2.to_csv('../Outputs/new_movies.csv', index=False)"
   ]
  },
  {
   "cell_type": "markdown",
   "metadata": {},
   "source": [
    "# 3. Accademy Awards: Best Motion Picture (Nominees and Winners)\n",
    "1. Click on the \"Drop-Down Menu\"\n",
    "2. Click on \"Accademy Awards\"\n",
    "3. Click on Winners"
   ]
  },
  {
   "cell_type": "code",
   "execution_count": 3,
   "metadata": {},
   "outputs": [],
   "source": [
    "# Pinchar otra vez en menú\n",
    "WebDriverWait(browser, 10).until(\n",
    "        EC.element_to_be_clickable((By.XPATH, '//*[@id=\"imdbHeader-navDrawerOpen\"]/span'))\n",
    "    ).click()\n",
    "# Pinchar en Accademy Awards\n",
    "WebDriverWait(browser, 10).until(\n",
    "        EC.element_to_be_clickable((By.XPATH, '//*[@id=\"imdbHeader\"]/div[2]/aside[1]/div/div[2]/div/div[3]/span/div/div/ul/a[1]/span'))\n",
    "    ).click()\n",
    "\n",
    "WebDriverWait(browser, 10).until(\n",
    "        EC.element_to_be_clickable((By.XPATH, '//*[@id=\"__next\"]/main/div/div[3]/div[2]/div/div[2]/ul/a[2]/span '))\n",
    "    ).click()\n"
   ]
  },
  {
   "cell_type": "code",
   "execution_count": 4,
   "metadata": {},
   "outputs": [],
   "source": [
    "df_awards = extract_accademyawards_data(browser)    "
   ]
  },
  {
   "cell_type": "code",
   "execution_count": 5,
   "metadata": {},
   "outputs": [
    {
     "data": {
      "text/html": [
       "<div>\n",
       "<style scoped>\n",
       "    .dataframe tbody tr th:only-of-type {\n",
       "        vertical-align: middle;\n",
       "    }\n",
       "\n",
       "    .dataframe tbody tr th {\n",
       "        vertical-align: top;\n",
       "    }\n",
       "\n",
       "    .dataframe thead th {\n",
       "        text-align: right;\n",
       "    }\n",
       "</style>\n",
       "<table border=\"1\" class=\"dataframe\">\n",
       "  <thead>\n",
       "    <tr style=\"text-align: right;\">\n",
       "      <th></th>\n",
       "      <th>Year</th>\n",
       "      <th>Genres</th>\n",
       "    </tr>\n",
       "  </thead>\n",
       "  <tbody>\n",
       "    <tr>\n",
       "      <th>0</th>\n",
       "      <td>2005</td>\n",
       "      <td>[Comedia, Drama, Crimen, Drama, Historia, Come...</td>\n",
       "    </tr>\n",
       "    <tr>\n",
       "      <th>1</th>\n",
       "      <td>2006</td>\n",
       "      <td>[Biografía, Drama, Drama, Deporte, Biografía, ...</td>\n",
       "    </tr>\n",
       "    <tr>\n",
       "      <th>2</th>\n",
       "      <td>2007</td>\n",
       "      <td>[Drama, Romance, Biografía, Drama, Historia, A...</td>\n",
       "    </tr>\n",
       "    <tr>\n",
       "      <th>3</th>\n",
       "      <td>2008</td>\n",
       "      <td>[Crimen, Drama, Suspense, Drama, Comedia, Dram...</td>\n",
       "    </tr>\n",
       "    <tr>\n",
       "      <th>4</th>\n",
       "      <td>2009</td>\n",
       "      <td>[Comedia, Drama, Crimen, Drama, Suspense, Dram...</td>\n",
       "    </tr>\n",
       "  </tbody>\n",
       "</table>\n",
       "</div>"
      ],
      "text/plain": [
       "   Year                                             Genres\n",
       "0  2005  [Comedia, Drama, Crimen, Drama, Historia, Come...\n",
       "1  2006  [Biografía, Drama, Drama, Deporte, Biografía, ...\n",
       "2  2007  [Drama, Romance, Biografía, Drama, Historia, A...\n",
       "3  2008  [Crimen, Drama, Suspense, Drama, Comedia, Dram...\n",
       "4  2009  [Comedia, Drama, Crimen, Drama, Suspense, Dram..."
      ]
     },
     "execution_count": 5,
     "metadata": {},
     "output_type": "execute_result"
    }
   ],
   "source": [
    "df_awards.head()"
   ]
  },
  {
   "cell_type": "code",
   "execution_count": 6,
   "metadata": {},
   "outputs": [
    {
     "data": {
      "text/html": [
       "<div>\n",
       "<style scoped>\n",
       "    .dataframe tbody tr th:only-of-type {\n",
       "        vertical-align: middle;\n",
       "    }\n",
       "\n",
       "    .dataframe tbody tr th {\n",
       "        vertical-align: top;\n",
       "    }\n",
       "\n",
       "    .dataframe thead th {\n",
       "        text-align: right;\n",
       "    }\n",
       "</style>\n",
       "<table border=\"1\" class=\"dataframe\">\n",
       "  <thead>\n",
       "    <tr style=\"text-align: right;\">\n",
       "      <th></th>\n",
       "      <th>Year</th>\n",
       "      <th>Genres</th>\n",
       "    </tr>\n",
       "  </thead>\n",
       "  <tbody>\n",
       "    <tr>\n",
       "      <th>15</th>\n",
       "      <td>2020</td>\n",
       "      <td>[Acción, Aventura, Ciencia ficción, Drama, Mús...</td>\n",
       "    </tr>\n",
       "    <tr>\n",
       "      <th>16</th>\n",
       "      <td>2021</td>\n",
       "      <td>[Drama, Romance, Crimen, Drama, Suspense, Acci...</td>\n",
       "    </tr>\n",
       "    <tr>\n",
       "      <th>17</th>\n",
       "      <td>2022</td>\n",
       "      <td>[Biografía, Comedia, Drama, Crimen, Drama, Mis...</td>\n",
       "    </tr>\n",
       "    <tr>\n",
       "      <th>18</th>\n",
       "      <td>2023</td>\n",
       "      <td>[Comedia, Drama, Romance, Drama, Crimen, Drama...</td>\n",
       "    </tr>\n",
       "    <tr>\n",
       "      <th>19</th>\n",
       "      <td>2024</td>\n",
       "      <td>[Acción, Aventura, Fantasía, Drama, Comedia, D...</td>\n",
       "    </tr>\n",
       "  </tbody>\n",
       "</table>\n",
       "</div>"
      ],
      "text/plain": [
       "    Year                                             Genres\n",
       "15  2020  [Acción, Aventura, Ciencia ficción, Drama, Mús...\n",
       "16  2021  [Drama, Romance, Crimen, Drama, Suspense, Acci...\n",
       "17  2022  [Biografía, Comedia, Drama, Crimen, Drama, Mis...\n",
       "18  2023  [Comedia, Drama, Romance, Drama, Crimen, Drama...\n",
       "19  2024  [Acción, Aventura, Fantasía, Drama, Comedia, D..."
      ]
     },
     "execution_count": 6,
     "metadata": {},
     "output_type": "execute_result"
    }
   ],
   "source": [
    "df_awards.tail()"
   ]
  },
  {
   "cell_type": "code",
   "execution_count": 7,
   "metadata": {},
   "outputs": [],
   "source": [
    "df_awards.to_csv('../Outputs/awards.csv', index=False)"
   ]
  }
 ],
 "metadata": {
  "kernelspec": {
   "display_name": "programming",
   "language": "python",
   "name": "python3"
  },
  "language_info": {
   "codemirror_mode": {
    "name": "ipython",
    "version": 3
   },
   "file_extension": ".py",
   "mimetype": "text/x-python",
   "name": "python",
   "nbconvert_exporter": "python",
   "pygments_lexer": "ipython3",
   "version": "3.12.1"
  }
 },
 "nbformat": 4,
 "nbformat_minor": 2
}
